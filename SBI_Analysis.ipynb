{
 "cells": [
  {
   "cell_type": "code",
   "execution_count": 1,
   "metadata": {},
   "outputs": [],
   "source": [
    "from nsepy import get_history"
   ]
  },
  {
   "cell_type": "code",
   "execution_count": 2,
   "metadata": {},
   "outputs": [],
   "source": [
    "from datetime import date"
   ]
  },
  {
   "cell_type": "code",
   "execution_count": 7,
   "metadata": {},
   "outputs": [],
   "source": [
    " data = get_history(symbol=\"SBIN\", start=date(1996,1,1), end=date(2019,6,24))"
   ]
  },
  {
   "cell_type": "code",
   "execution_count": 8,
   "metadata": {},
   "outputs": [
    {
     "name": "stdout",
     "output_type": "stream",
     "text": [
      "<class 'pandas.core.frame.DataFrame'>\n",
      "Index: 5848 entries, 1996-01-01 to 2019-06-24\n",
      "Data columns (total 14 columns):\n",
      "Symbol                5848 non-null object\n",
      "Series                5848 non-null object\n",
      "Prev Close            5848 non-null float64\n",
      "Open                  5848 non-null float64\n",
      "High                  5848 non-null float64\n",
      "Low                   5848 non-null float64\n",
      "Last                  5300 non-null float64\n",
      "Close                 5848 non-null float64\n",
      "VWAP                  5848 non-null float64\n",
      "Volume                5848 non-null int64\n",
      "Turnover              5848 non-null float64\n",
      "Trades                1999 non-null float64\n",
      "Deliverable Volume    4336 non-null float64\n",
      "%Deliverble           4336 non-null float64\n",
      "dtypes: float64(11), int64(1), object(2)\n",
      "memory usage: 685.3+ KB\n"
     ]
    }
   ],
   "source": [
    "data.info()"
   ]
  },
  {
   "cell_type": "code",
   "execution_count": 9,
   "metadata": {},
   "outputs": [
    {
     "data": {
      "text/html": [
       "<div>\n",
       "<style scoped>\n",
       "    .dataframe tbody tr th:only-of-type {\n",
       "        vertical-align: middle;\n",
       "    }\n",
       "\n",
       "    .dataframe tbody tr th {\n",
       "        vertical-align: top;\n",
       "    }\n",
       "\n",
       "    .dataframe thead th {\n",
       "        text-align: right;\n",
       "    }\n",
       "</style>\n",
       "<table border=\"1\" class=\"dataframe\">\n",
       "  <thead>\n",
       "    <tr style=\"text-align: right;\">\n",
       "      <th></th>\n",
       "      <th>Symbol</th>\n",
       "      <th>Series</th>\n",
       "      <th>Prev Close</th>\n",
       "      <th>Open</th>\n",
       "      <th>High</th>\n",
       "      <th>Low</th>\n",
       "      <th>Last</th>\n",
       "      <th>Close</th>\n",
       "      <th>VWAP</th>\n",
       "      <th>Volume</th>\n",
       "      <th>Turnover</th>\n",
       "      <th>Trades</th>\n",
       "      <th>Deliverable Volume</th>\n",
       "      <th>%Deliverble</th>\n",
       "    </tr>\n",
       "    <tr>\n",
       "      <th>Date</th>\n",
       "      <th></th>\n",
       "      <th></th>\n",
       "      <th></th>\n",
       "      <th></th>\n",
       "      <th></th>\n",
       "      <th></th>\n",
       "      <th></th>\n",
       "      <th></th>\n",
       "      <th></th>\n",
       "      <th></th>\n",
       "      <th></th>\n",
       "      <th></th>\n",
       "      <th></th>\n",
       "      <th></th>\n",
       "    </tr>\n",
       "  </thead>\n",
       "  <tbody>\n",
       "    <tr>\n",
       "      <th>2019-06-18</th>\n",
       "      <td>SBIN</td>\n",
       "      <td>EQ</td>\n",
       "      <td>337.85</td>\n",
       "      <td>335.5</td>\n",
       "      <td>344.00</td>\n",
       "      <td>333.80</td>\n",
       "      <td>340.8</td>\n",
       "      <td>340.05</td>\n",
       "      <td>338.95</td>\n",
       "      <td>21957480</td>\n",
       "      <td>7.442520e+14</td>\n",
       "      <td>143181.0</td>\n",
       "      <td>4812132.0</td>\n",
       "      <td>0.2147</td>\n",
       "    </tr>\n",
       "    <tr>\n",
       "      <th>2019-06-19</th>\n",
       "      <td>SBIN</td>\n",
       "      <td>EQ</td>\n",
       "      <td>340.05</td>\n",
       "      <td>343.1</td>\n",
       "      <td>345.20</td>\n",
       "      <td>335.50</td>\n",
       "      <td>338.7</td>\n",
       "      <td>338.85</td>\n",
       "      <td>340.29</td>\n",
       "      <td>16416903</td>\n",
       "      <td>5.586439e+14</td>\n",
       "      <td>111210.0</td>\n",
       "      <td>4053399.0</td>\n",
       "      <td>0.2469</td>\n",
       "    </tr>\n",
       "    <tr>\n",
       "      <th>2019-06-20</th>\n",
       "      <td>SBIN</td>\n",
       "      <td>EQ</td>\n",
       "      <td>338.85</td>\n",
       "      <td>341.0</td>\n",
       "      <td>346.25</td>\n",
       "      <td>335.60</td>\n",
       "      <td>346.0</td>\n",
       "      <td>345.15</td>\n",
       "      <td>340.31</td>\n",
       "      <td>20626861</td>\n",
       "      <td>7.019550e+14</td>\n",
       "      <td>149410.0</td>\n",
       "      <td>6971196.0</td>\n",
       "      <td>0.3380</td>\n",
       "    </tr>\n",
       "    <tr>\n",
       "      <th>2019-06-21</th>\n",
       "      <td>SBIN</td>\n",
       "      <td>EQ</td>\n",
       "      <td>345.15</td>\n",
       "      <td>344.8</td>\n",
       "      <td>350.70</td>\n",
       "      <td>343.15</td>\n",
       "      <td>349.1</td>\n",
       "      <td>349.40</td>\n",
       "      <td>348.05</td>\n",
       "      <td>24749090</td>\n",
       "      <td>8.613801e+14</td>\n",
       "      <td>153425.0</td>\n",
       "      <td>11835989.0</td>\n",
       "      <td>0.4782</td>\n",
       "    </tr>\n",
       "    <tr>\n",
       "      <th>2019-06-24</th>\n",
       "      <td>SBIN</td>\n",
       "      <td>EQ</td>\n",
       "      <td>349.40</td>\n",
       "      <td>350.0</td>\n",
       "      <td>354.75</td>\n",
       "      <td>349.65</td>\n",
       "      <td>353.1</td>\n",
       "      <td>353.20</td>\n",
       "      <td>352.41</td>\n",
       "      <td>17919504</td>\n",
       "      <td>6.315079e+14</td>\n",
       "      <td>140472.0</td>\n",
       "      <td>5406620.0</td>\n",
       "      <td>0.3017</td>\n",
       "    </tr>\n",
       "  </tbody>\n",
       "</table>\n",
       "</div>"
      ],
      "text/plain": [
       "           Symbol Series  Prev Close   Open    High     Low   Last   Close  \\\n",
       "Date                                                                         \n",
       "2019-06-18   SBIN     EQ      337.85  335.5  344.00  333.80  340.8  340.05   \n",
       "2019-06-19   SBIN     EQ      340.05  343.1  345.20  335.50  338.7  338.85   \n",
       "2019-06-20   SBIN     EQ      338.85  341.0  346.25  335.60  346.0  345.15   \n",
       "2019-06-21   SBIN     EQ      345.15  344.8  350.70  343.15  349.1  349.40   \n",
       "2019-06-24   SBIN     EQ      349.40  350.0  354.75  349.65  353.1  353.20   \n",
       "\n",
       "              VWAP    Volume      Turnover    Trades  Deliverable Volume  \\\n",
       "Date                                                                       \n",
       "2019-06-18  338.95  21957480  7.442520e+14  143181.0           4812132.0   \n",
       "2019-06-19  340.29  16416903  5.586439e+14  111210.0           4053399.0   \n",
       "2019-06-20  340.31  20626861  7.019550e+14  149410.0           6971196.0   \n",
       "2019-06-21  348.05  24749090  8.613801e+14  153425.0          11835989.0   \n",
       "2019-06-24  352.41  17919504  6.315079e+14  140472.0           5406620.0   \n",
       "\n",
       "            %Deliverble  \n",
       "Date                     \n",
       "2019-06-18       0.2147  \n",
       "2019-06-19       0.2469  \n",
       "2019-06-20       0.3380  \n",
       "2019-06-21       0.4782  \n",
       "2019-06-24       0.3017  "
      ]
     },
     "execution_count": 9,
     "metadata": {},
     "output_type": "execute_result"
    }
   ],
   "source": [
    "data.tail()"
   ]
  },
  {
   "cell_type": "markdown",
   "metadata": {},
   "source": [
    "Reference:\n",
    "\n",
    "https://stackoverflow.com/questions/54732473/i-want-to-list-out-the-companies-in-nse-indices\n",
    "https://nsepy.readthedocs.io/en/latest/"
   ]
  },
  {
   "cell_type": "code",
   "execution_count": 10,
   "metadata": {},
   "outputs": [
    {
     "data": {
      "text/html": [
       "<div>\n",
       "<style scoped>\n",
       "    .dataframe tbody tr th:only-of-type {\n",
       "        vertical-align: middle;\n",
       "    }\n",
       "\n",
       "    .dataframe tbody tr th {\n",
       "        vertical-align: top;\n",
       "    }\n",
       "\n",
       "    .dataframe thead th {\n",
       "        text-align: right;\n",
       "    }\n",
       "</style>\n",
       "<table border=\"1\" class=\"dataframe\">\n",
       "  <thead>\n",
       "    <tr style=\"text-align: right;\">\n",
       "      <th></th>\n",
       "      <th>Symbol</th>\n",
       "      <th>Series</th>\n",
       "      <th>Prev Close</th>\n",
       "      <th>Open</th>\n",
       "      <th>High</th>\n",
       "      <th>Low</th>\n",
       "      <th>Last</th>\n",
       "      <th>Close</th>\n",
       "      <th>VWAP</th>\n",
       "      <th>Volume</th>\n",
       "      <th>Turnover</th>\n",
       "      <th>Trades</th>\n",
       "      <th>Deliverable Volume</th>\n",
       "      <th>%Deliverble</th>\n",
       "    </tr>\n",
       "    <tr>\n",
       "      <th>Date</th>\n",
       "      <th></th>\n",
       "      <th></th>\n",
       "      <th></th>\n",
       "      <th></th>\n",
       "      <th></th>\n",
       "      <th></th>\n",
       "      <th></th>\n",
       "      <th></th>\n",
       "      <th></th>\n",
       "      <th></th>\n",
       "      <th></th>\n",
       "      <th></th>\n",
       "      <th></th>\n",
       "      <th></th>\n",
       "    </tr>\n",
       "  </thead>\n",
       "  <tbody>\n",
       "    <tr>\n",
       "      <th>1996-01-01</th>\n",
       "      <td>SBIN</td>\n",
       "      <td>EQ</td>\n",
       "      <td>198.10</td>\n",
       "      <td>198.10</td>\n",
       "      <td>201.15</td>\n",
       "      <td>196.50</td>\n",
       "      <td>NaN</td>\n",
       "      <td>199.50</td>\n",
       "      <td>199.20</td>\n",
       "      <td>4126350</td>\n",
       "      <td>8.219580e+13</td>\n",
       "      <td>NaN</td>\n",
       "      <td>NaN</td>\n",
       "      <td>NaN</td>\n",
       "    </tr>\n",
       "    <tr>\n",
       "      <th>1996-01-02</th>\n",
       "      <td>SBIN</td>\n",
       "      <td>EQ</td>\n",
       "      <td>199.50</td>\n",
       "      <td>200.25</td>\n",
       "      <td>201.00</td>\n",
       "      <td>188.00</td>\n",
       "      <td>NaN</td>\n",
       "      <td>193.15</td>\n",
       "      <td>195.94</td>\n",
       "      <td>5299500</td>\n",
       "      <td>1.038380e+14</td>\n",
       "      <td>NaN</td>\n",
       "      <td>NaN</td>\n",
       "      <td>NaN</td>\n",
       "    </tr>\n",
       "    <tr>\n",
       "      <th>1996-01-03</th>\n",
       "      <td>SBIN</td>\n",
       "      <td>EQ</td>\n",
       "      <td>193.15</td>\n",
       "      <td>194.25</td>\n",
       "      <td>196.80</td>\n",
       "      <td>187.00</td>\n",
       "      <td>NaN</td>\n",
       "      <td>188.00</td>\n",
       "      <td>191.64</td>\n",
       "      <td>6443900</td>\n",
       "      <td>1.234929e+14</td>\n",
       "      <td>NaN</td>\n",
       "      <td>NaN</td>\n",
       "      <td>NaN</td>\n",
       "    </tr>\n",
       "    <tr>\n",
       "      <th>1996-01-04</th>\n",
       "      <td>SBIN</td>\n",
       "      <td>EQ</td>\n",
       "      <td>188.00</td>\n",
       "      <td>185.50</td>\n",
       "      <td>189.00</td>\n",
       "      <td>182.55</td>\n",
       "      <td>NaN</td>\n",
       "      <td>187.35</td>\n",
       "      <td>185.00</td>\n",
       "      <td>8121250</td>\n",
       "      <td>1.502404e+14</td>\n",
       "      <td>NaN</td>\n",
       "      <td>NaN</td>\n",
       "      <td>NaN</td>\n",
       "    </tr>\n",
       "    <tr>\n",
       "      <th>1996-01-05</th>\n",
       "      <td>SBIN</td>\n",
       "      <td>EQ</td>\n",
       "      <td>187.35</td>\n",
       "      <td>188.00</td>\n",
       "      <td>188.50</td>\n",
       "      <td>185.05</td>\n",
       "      <td>NaN</td>\n",
       "      <td>186.30</td>\n",
       "      <td>186.70</td>\n",
       "      <td>7228600</td>\n",
       "      <td>1.349576e+14</td>\n",
       "      <td>NaN</td>\n",
       "      <td>NaN</td>\n",
       "      <td>NaN</td>\n",
       "    </tr>\n",
       "  </tbody>\n",
       "</table>\n",
       "</div>"
      ],
      "text/plain": [
       "           Symbol Series  Prev Close    Open    High     Low  Last   Close  \\\n",
       "Date                                                                         \n",
       "1996-01-01   SBIN     EQ      198.10  198.10  201.15  196.50   NaN  199.50   \n",
       "1996-01-02   SBIN     EQ      199.50  200.25  201.00  188.00   NaN  193.15   \n",
       "1996-01-03   SBIN     EQ      193.15  194.25  196.80  187.00   NaN  188.00   \n",
       "1996-01-04   SBIN     EQ      188.00  185.50  189.00  182.55   NaN  187.35   \n",
       "1996-01-05   SBIN     EQ      187.35  188.00  188.50  185.05   NaN  186.30   \n",
       "\n",
       "              VWAP   Volume      Turnover  Trades  Deliverable Volume  \\\n",
       "Date                                                                    \n",
       "1996-01-01  199.20  4126350  8.219580e+13     NaN                 NaN   \n",
       "1996-01-02  195.94  5299500  1.038380e+14     NaN                 NaN   \n",
       "1996-01-03  191.64  6443900  1.234929e+14     NaN                 NaN   \n",
       "1996-01-04  185.00  8121250  1.502404e+14     NaN                 NaN   \n",
       "1996-01-05  186.70  7228600  1.349576e+14     NaN                 NaN   \n",
       "\n",
       "            %Deliverble  \n",
       "Date                     \n",
       "1996-01-01          NaN  \n",
       "1996-01-02          NaN  \n",
       "1996-01-03          NaN  \n",
       "1996-01-04          NaN  \n",
       "1996-01-05          NaN  "
      ]
     },
     "execution_count": 10,
     "metadata": {},
     "output_type": "execute_result"
    }
   ],
   "source": [
    "data.head()"
   ]
  },
  {
   "cell_type": "code",
   "execution_count": 11,
   "metadata": {},
   "outputs": [],
   "source": [
    "import pandas as pd"
   ]
  },
  {
   "cell_type": "code",
   "execution_count": 14,
   "metadata": {},
   "outputs": [],
   "source": [
    "df = pd.read_csv(\"SBIN.csv\")"
   ]
  },
  {
   "cell_type": "code",
   "execution_count": 16,
   "metadata": {},
   "outputs": [
    {
     "data": {
      "text/html": [
       "<div>\n",
       "<style scoped>\n",
       "    .dataframe tbody tr th:only-of-type {\n",
       "        vertical-align: middle;\n",
       "    }\n",
       "\n",
       "    .dataframe tbody tr th {\n",
       "        vertical-align: top;\n",
       "    }\n",
       "\n",
       "    .dataframe thead th {\n",
       "        text-align: right;\n",
       "    }\n",
       "</style>\n",
       "<table border=\"1\" class=\"dataframe\">\n",
       "  <thead>\n",
       "    <tr style=\"text-align: right;\">\n",
       "      <th></th>\n",
       "      <th>Date</th>\n",
       "      <th>Open</th>\n",
       "      <th>High</th>\n",
       "      <th>Low</th>\n",
       "      <th>Close</th>\n",
       "      <th>Adj Close</th>\n",
       "      <th>Volume</th>\n",
       "    </tr>\n",
       "  </thead>\n",
       "  <tbody>\n",
       "    <tr>\n",
       "      <th>5920</th>\n",
       "      <td>2019-06-17</td>\n",
       "      <td>343.750000</td>\n",
       "      <td>343.750000</td>\n",
       "      <td>336.950012</td>\n",
       "      <td>337.850006</td>\n",
       "      <td>337.850006</td>\n",
       "      <td>13779496.0</td>\n",
       "    </tr>\n",
       "    <tr>\n",
       "      <th>5921</th>\n",
       "      <td>2019-06-18</td>\n",
       "      <td>335.500000</td>\n",
       "      <td>344.000000</td>\n",
       "      <td>333.799988</td>\n",
       "      <td>340.049988</td>\n",
       "      <td>340.049988</td>\n",
       "      <td>21957480.0</td>\n",
       "    </tr>\n",
       "    <tr>\n",
       "      <th>5922</th>\n",
       "      <td>2019-06-19</td>\n",
       "      <td>343.100006</td>\n",
       "      <td>345.200012</td>\n",
       "      <td>335.500000</td>\n",
       "      <td>338.850006</td>\n",
       "      <td>338.850006</td>\n",
       "      <td>16416903.0</td>\n",
       "    </tr>\n",
       "    <tr>\n",
       "      <th>5923</th>\n",
       "      <td>2019-06-20</td>\n",
       "      <td>341.000000</td>\n",
       "      <td>346.250000</td>\n",
       "      <td>335.600006</td>\n",
       "      <td>345.149994</td>\n",
       "      <td>345.149994</td>\n",
       "      <td>20626861.0</td>\n",
       "    </tr>\n",
       "    <tr>\n",
       "      <th>5924</th>\n",
       "      <td>2019-06-21</td>\n",
       "      <td>344.799988</td>\n",
       "      <td>350.700012</td>\n",
       "      <td>343.149994</td>\n",
       "      <td>349.399994</td>\n",
       "      <td>349.399994</td>\n",
       "      <td>24749090.0</td>\n",
       "    </tr>\n",
       "  </tbody>\n",
       "</table>\n",
       "</div>"
      ],
      "text/plain": [
       "            Date        Open        High         Low       Close   Adj Close  \\\n",
       "5920  2019-06-17  343.750000  343.750000  336.950012  337.850006  337.850006   \n",
       "5921  2019-06-18  335.500000  344.000000  333.799988  340.049988  340.049988   \n",
       "5922  2019-06-19  343.100006  345.200012  335.500000  338.850006  338.850006   \n",
       "5923  2019-06-20  341.000000  346.250000  335.600006  345.149994  345.149994   \n",
       "5924  2019-06-21  344.799988  350.700012  343.149994  349.399994  349.399994   \n",
       "\n",
       "          Volume  \n",
       "5920  13779496.0  \n",
       "5921  21957480.0  \n",
       "5922  16416903.0  \n",
       "5923  20626861.0  \n",
       "5924  24749090.0  "
      ]
     },
     "execution_count": 16,
     "metadata": {},
     "output_type": "execute_result"
    }
   ],
   "source": [
    "df.tail()"
   ]
  },
  {
   "cell_type": "code",
   "execution_count": 17,
   "metadata": {},
   "outputs": [],
   "source": [
    "df['Simple Return'] = (df['Adj Close']/df['Adj Close'].shift(1)) -1"
   ]
  },
  {
   "cell_type": "code",
   "execution_count": 20,
   "metadata": {},
   "outputs": [],
   "source": [
    "import matplotlib.pyplot as plt"
   ]
  },
  {
   "cell_type": "code",
   "execution_count": 22,
   "metadata": {},
   "outputs": [
    {
     "data": {
      "image/png": "[encoded data removed]",
      "text/plain": [
       "<Figure size 1152x360 with 1 Axes>"
      ]
     },
     "metadata": {
      "needs_background": "light"
     },
     "output_type": "display_data"
    }
   ],
   "source": [
    "df['Simple Return'].plot(figsize=(16,5))\n",
    "plt.show()"
   ]
  },
  {
   "cell_type": "code",
   "execution_count": 23,
   "metadata": {},
   "outputs": [
    {
     "data": {
      "text/plain": [
       "0.001471282022915901"
      ]
     },
     "execution_count": 23,
     "metadata": {},
     "output_type": "execute_result"
    }
   ],
   "source": [
    "avg_returns_days= df['Simple Return'].mean()\n",
    "avg_returns_days"
   ]
  },
  {
   "cell_type": "code",
   "execution_count": 24,
   "metadata": {},
   "outputs": [
    {
     "data": {
      "text/plain": [
       "0.36782050572897523"
      ]
     },
     "execution_count": 24,
     "metadata": {},
     "output_type": "execute_result"
    }
   ],
   "source": [
    "avg_returns_annual= df['Simple Return'].mean() *250 \n",
    "avg_returns_annual"
   ]
  },
  {
   "cell_type": "code",
   "execution_count": 26,
   "metadata": {},
   "outputs": [],
   "source": [
    "import numpy as np"
   ]
  },
  {
   "cell_type": "code",
   "execution_count": 27,
   "metadata": {},
   "outputs": [],
   "source": [
    "df['Log_return'] = np.log(df['Adj Close']/df['Adj Close'].shift(1))"
   ]
  },
  {
   "cell_type": "code",
   "execution_count": 28,
   "metadata": {},
   "outputs": [
    {
     "data": {
      "image/png": "[encoded data removed]",
      "text/plain": [
       "<Figure size 1152x360 with 1 Axes>"
      ]
     },
     "metadata": {
      "needs_background": "light"
     },
     "output_type": "display_data"
    }
   ],
   "source": [
    "df['Log_return'].plot(figsize=(16,5))\n",
    "plt.show()"
   ]
  },
  {
   "cell_type": "code",
   "execution_count": 30,
   "metadata": {},
   "outputs": [
    {
     "data": {
      "text/plain": [
       "0.0011131331105355472"
      ]
     },
     "execution_count": 30,
     "metadata": {},
     "output_type": "execute_result"
    }
   ],
   "source": [
    "df['Log_return'].mean()"
   ]
  },
  {
   "cell_type": "code",
   "execution_count": 31,
   "metadata": {},
   "outputs": [
    {
     "data": {
      "text/plain": [
       "0.27828327763388677"
      ]
     },
     "execution_count": 31,
     "metadata": {},
     "output_type": "execute_result"
    }
   ],
   "source": [
    "df['Log_return'].mean() * 250"
   ]
  },
  {
   "cell_type": "code",
   "execution_count": 32,
   "metadata": {},
   "outputs": [
    {
     "data": {
      "text/plain": [
       "0.02651734707759254"
      ]
     },
     "execution_count": 32,
     "metadata": {},
     "output_type": "execute_result"
    }
   ],
   "source": [
    "df['Log_return'].std()"
   ]
  },
  {
   "cell_type": "code",
   "execution_count": 33,
   "metadata": {},
   "outputs": [
    {
     "data": {
      "text/plain": [
       "0.4192760713520107"
      ]
     },
     "execution_count": 33,
     "metadata": {},
     "output_type": "execute_result"
    }
   ],
   "source": [
    "df['Log_return'].std() * 250 ** 0.5"
   ]
  },
  {
   "cell_type": "code",
   "execution_count": null,
   "metadata": {},
   "outputs": [],
   "source": []
  }
 ],
 "metadata": {
  "kernelspec": {
   "display_name": "Python 3",
   "language": "python",
   "name": "python3"
  },
  "language_info": {
   "codemirror_mode": {
    "name": "ipython",
    "version": 3
   },
   "file_extension": ".py",
   "mimetype": "text/x-python",
   "name": "python",
   "nbconvert_exporter": "python",
   "pygments_lexer": "ipython3",
   "version": "3.6.8"
  }
 },
 "nbformat": 4,
 "nbformat_minor": 2
}
