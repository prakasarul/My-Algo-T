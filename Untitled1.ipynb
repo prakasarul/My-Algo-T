{
 "cells": [
  {
   "cell_type": "code",
   "execution_count": 4,
   "metadata": {},
   "outputs": [],
   "source": [
    "from nsetools import Nse"
   ]
  },
  {
   "cell_type": "code",
   "execution_count": 5,
   "metadata": {},
   "outputs": [],
   "source": [
    "nse = Nse()"
   ]
  },
  {
   "cell_type": "code",
   "execution_count": 6,
   "metadata": {},
   "outputs": [
    {
     "data": {
      "text/plain": [
       "['NIFTY 50 Pre Open',\n",
       " 'NIFTY 50',\n",
       " 'NIFTY NEXT 50',\n",
       " 'NIFTY100 LIQ 15',\n",
       " 'NIFTY BANK',\n",
       " 'INDIA VIX',\n",
       " 'NIFTY 100',\n",
       " 'NIFTY 500',\n",
       " 'NIFTY MIDCAP 100',\n",
       " 'NIFTY MIDCAP 50',\n",
       " 'NIFTY INFRA',\n",
       " 'NIFTY REALTY',\n",
       " 'NIFTY ENERGY',\n",
       " 'NIFTY FMCG',\n",
       " 'NIFTY MNC',\n",
       " 'NIFTY PHARMA',\n",
       " 'NIFTY PSE',\n",
       " 'NIFTY PSU BANK',\n",
       " 'NIFTY SERV SECTOR',\n",
       " 'NIFTY IT',\n",
       " 'NIFTY SMLCAP 100',\n",
       " 'NIFTY 200',\n",
       " 'NIFTY AUTO',\n",
       " 'NIFTY MEDIA',\n",
       " 'NIFTY METAL',\n",
       " 'NIFTY DIV OPPS 50',\n",
       " 'NIFTY COMMODITIES',\n",
       " 'NIFTY CONSUMPTION',\n",
       " 'NIFTY CPSE',\n",
       " 'NIFTY FIN SERVICE',\n",
       " 'NIFTY GROWSECT 15',\n",
       " 'NIFTY50 VALUE 20',\n",
       " 'NIFTY50 TR 2X LEV',\n",
       " 'NIFTY50 PR 2X LEV',\n",
       " 'NIFTY50 TR 1X INV',\n",
       " 'NIFTY50 PR 1X INV',\n",
       " 'NIFTY ALPHA 50',\n",
       " 'NIFTY50 EQL WGT',\n",
       " 'NIFTY100 EQL WGT',\n",
       " 'NIFTY100 LOWVOL30',\n",
       " 'NIFTY MID LIQ 15',\n",
       " 'NIFTY PVT BANK',\n",
       " 'NIFTY100 QUALTY30',\n",
       " 'NIFTY GS 8 13YR',\n",
       " 'NIFTY GS 10YR',\n",
       " 'NIFTY GS 10YR CLN',\n",
       " 'NIFTY GS 4 8YR',\n",
       " 'NIFTY GS 11 15YR',\n",
       " 'NIFTY GS 15YRPLUS',\n",
       " 'NIFTY GS COMPSITE',\n",
       " 'NIFTY MIDCAP 150',\n",
       " 'NIFTY SMLCAP 50',\n",
       " 'NIFTY SMLCAP 250',\n",
       " 'NIFTY MIDSML 400',\n",
       " 'NIFTY200 QUALTY30']"
      ]
     },
     "execution_count": 6,
     "metadata": {},
     "output_type": "execute_result"
    }
   ],
   "source": [
    "nse.get_index_list()"
   ]
  },
  {
   "cell_type": "code",
   "execution_count": 7,
   "metadata": {},
   "outputs": [],
   "source": [
    "all_stock_codes = nse.get_stock_codes()"
   ]
  },
  {
   "cell_type": "code",
   "execution_count": 11,
   "metadata": {},
   "outputs": [
    {
     "data": {
      "text/plain": [
       "1646"
      ]
     },
     "execution_count": 11,
     "metadata": {},
     "output_type": "execute_result"
    }
   ],
   "source": [
    "len(all_stock_codes)"
   ]
  },
  {
   "cell_type": "code",
   "execution_count": null,
   "metadata": {},
   "outputs": [],
   "source": []
  }
 ],
 "metadata": {
  "kernelspec": {
   "display_name": "Python 3",
   "language": "python",
   "name": "python3"
  },
  "language_info": {
   "codemirror_mode": {
    "name": "ipython",
    "version": 3
   },
   "file_extension": ".py",
   "mimetype": "text/x-python",
   "name": "python",
   "nbconvert_exporter": "python",
   "pygments_lexer": "ipython3",
   "version": "3.6.8"
  }
 },
 "nbformat": 4,
 "nbformat_minor": 2
}
